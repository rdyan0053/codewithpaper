{
 "cells": [
  {
   "cell_type": "code",
   "execution_count": 1,
   "id": "20ad7599",
   "metadata": {},
   "outputs": [
    {
     "name": "stderr",
     "output_type": "stream",
     "text": [
      "D:\\ProgramData\\Anaconda3\\envs\\study\\lib\\site-packages\\tqdm\\auto.py:22: TqdmWarning: IProgress not found. Please update jupyter and ipywidgets. See https://ipywidgets.readthedocs.io/en/stable/user_install.html\n",
      "  from .autonotebook import tqdm as notebook_tqdm\n"
     ]
    }
   ],
   "source": [
    "import os\n",
    "import json\n",
    "\n",
    "import torch\n",
    "from PIL import Image\n",
    "from torchvision import transforms\n",
    "import matplotlib.pyplot as plt\n",
    "\n",
    "from model import AlexNet"
   ]
  },
  {
   "cell_type": "code",
   "execution_count": 2,
   "id": "be4807e8",
   "metadata": {
    "collapsed": true
   },
   "outputs": [],
   "source": [
    "def main():\n",
    "    device = torch.device(\"cuda:0\" if torch.cuda.is_available() else \"cpu\")\n",
    "\n",
    "    data_transform = transforms.Compose(\n",
    "        [transforms.Resize((224, 224)),\n",
    "         transforms.ToTensor(),\n",
    "         transforms.Normalize((0.5, 0.5, 0.5), (0.5, 0.5, 0.5))])\n",
    "\n",
    "    # load image\n",
    "    img_path = \"../tulip.jpg\"\n",
    "    assert os.path.exists(img_path), \"file: '{}' dose not exist.\".format(img_path)\n",
    "    img = Image.open(img_path)\n",
    "\n",
    "    plt.imshow(img)\n",
    "    # [N, C, H, W]\n",
    "    img = data_transform(img)\n",
    "    # expand batch dimension\n",
    "    img = torch.unsqueeze(img, dim=0)\n",
    "\n",
    "    # read class_indict\n",
    "    json_path = './class_indices.json'\n",
    "    assert os.path.exists(json_path), \"file: '{}' dose not exist.\".format(json_path)\n",
    "\n",
    "    with open(json_path, \"r\") as f:\n",
    "        class_indict = json.load(f)\n",
    "\n",
    "    # create model\n",
    "    model = AlexNet(num_classes=5).to(device)\n",
    "\n",
    "    # load model weights\n",
    "    weights_path = \"./AlexNet.pth\"\n",
    "    assert os.path.exists(weights_path), \"file: '{}' dose not exist.\".format(weights_path)\n",
    "    model.load_state_dict(torch.load(weights_path))\n",
    "\n",
    "    model.eval()\n",
    "    with torch.no_grad():\n",
    "        # predict class\n",
    "        output = torch.squeeze(model(img.to(device))).cpu()\n",
    "        predict = torch.softmax(output, dim=0)\n",
    "        predict_cla = torch.argmax(predict).numpy()\n",
    "\n",
    "    print_res = \"class: {}   prob: {:.3}\".format(class_indict[str(predict_cla)], predict[predict_cla].numpy())\n",
    "    plt.title(print_res)\n",
    "    for i in range(len(predict)):\n",
    "        print(\"class: {:10}   prob: {:.3}\".format(class_indict[str(i)], predict[i].numpy()))\n",
    "    plt.show()"
   ]
  },
  {
   "cell_type": "code",
   "execution_count": null,
   "id": "4fa3e491",
   "metadata": {
    "collapsed": true
   },
   "outputs": [],
   "source": [
    "if __name__ == '__main__':\n",
    "    main()"
   ]
  },
  {
   "cell_type": "code",
   "execution_count": null,
   "id": "4bd82888",
   "metadata": {
    "collapsed": true
   },
   "outputs": [],
   "source": []
  },
  {
   "cell_type": "code",
   "execution_count": null,
   "id": "c5a9163e",
   "metadata": {
    "collapsed": true
   },
   "outputs": [],
   "source": []
  },
  {
   "cell_type": "code",
   "execution_count": null,
   "id": "964414b1",
   "metadata": {
    "collapsed": true
   },
   "outputs": [],
   "source": []
  },
  {
   "cell_type": "code",
   "execution_count": null,
   "id": "bd20f611",
   "metadata": {
    "collapsed": true
   },
   "outputs": [],
   "source": []
  }
 ],
 "metadata": {
  "kernelspec": {
   "display_name": "study",
   "language": "python",
   "name": "study"
  },
  "language_info": {
   "codemirror_mode": {
    "name": "ipython",
    "version": 3
   },
   "file_extension": ".py",
   "mimetype": "text/x-python",
   "name": "python",
   "nbconvert_exporter": "python",
   "pygments_lexer": "ipython3",
   "version": "3.6.13"
  }
 },
 "nbformat": 4,
 "nbformat_minor": 5
}
